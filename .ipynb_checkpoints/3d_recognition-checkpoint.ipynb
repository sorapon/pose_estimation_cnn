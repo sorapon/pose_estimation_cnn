{
 "cells": [
  {
   "cell_type": "markdown",
   "metadata": {},
   "source": [
    "# Make Dataset"
   ]
  },
  {
   "cell_type": "code",
   "execution_count": 113,
   "metadata": {},
   "outputs": [],
   "source": [
    "import numpy as np\n",
    "\n",
    "def mk_result(x):\n",
    "    return np.sum(x)\n",
    "\n",
    "n_data = 100\n",
    "channel = 1\n",
    "axis_x = 100\n",
    "axis_y = 100\n",
    "axis_z = 60\n",
    "dataset = np.zeros((n_data, channel, axis_z, axis_y, axis_x))\n",
    "label = np.zeros((n_data))\n",
    "\n",
    "for n in range(n_data):\n",
    "    for m in range(channel):\n",
    "        for i in range(axis_z):\n",
    "            for j in range(axis_y):\n",
    "                for k in range(axis_x):\n",
    "                    if(np.random.rand() > 0.5):\n",
    "                        dataset[n, m, i, j, k] = 1 \n",
    "\n",
    "for i in range(n_data):\n",
    "    label[i] = mk_result(dataset[i])\n",
    "\n",
    "#print(dataset)\n",
    "\n",
    "#min_xy = np.zeros((2,1))\n",
    "#min_xy[0,0] = np.min(dataset)\n",
    "#min_xy[1,0] = np.max(dataset)\n",
    "\n",
    "#print(label)\n",
    "dataset = dataset.astype(np.float32)\n",
    "label = label.astype(np.float32)"
   ]
  },
  {
   "cell_type": "code",
   "execution_count": 114,
   "metadata": {},
   "outputs": [
    {
     "data": {
      "image/png": "[encoded data removed]",
      "text/plain": [
       "<Figure size 432x288 with 1 Axes>"
      ]
     },
     "metadata": {},
     "output_type": "display_data"
    }
   ],
   "source": [
    "import matplotlib.pyplot as plt\n",
    "\n",
    "plt.hist(label[:])\n",
    "plt.show()"
   ]
  },
  {
   "cell_type": "markdown",
   "metadata": {},
   "source": [
    "# Model"
   ]
  },
  {
   "cell_type": "code",
   "execution_count": 115,
   "metadata": {},
   "outputs": [],
   "source": [
    "import chainer\n",
    "import chainer.functions as F\n",
    "import chainer.links as L\n",
    "from chainer import report\n",
    "\n",
    "class MLP(chainer.Chain):\n",
    "    def __init__(self):\n",
    "        super(MLP, self).__init__(\n",
    "            conv1 = L.ConvolutionND(ndim=3, in_channels=1, out_channels=5, ksize=3, pad=1, nobias=True),\n",
    "            conv2 = L.ConvolutionND(ndim=3, in_channels=5, out_channels=5, ksize=3, pad=1, nobias=True),\n",
    "            l1 = L.Linear(None, 200),\n",
    "            l2 = L.Linear(200, 20),\n",
    "            l3 = L.Linear(20, 6),\n",
    "        )\n",
    "        \n",
    "    def __call__(self, x, t):\n",
    "        h = self.fwd(x)\n",
    "        loss = F.mean_squared_error(h, t)\n",
    "        report({'loss': loss}, self)\n",
    "        return loss\n",
    "\n",
    "    def fwd(self,x):\n",
    "        h = F.relu(self.conv1(x))\n",
    "        h = F.local_response_normalization(h)\n",
    "        h = F.max_pooling_nd(h, 3, stride=2)\n",
    "        \n",
    "        h = F.relu(self.conv2(h))\n",
    "        # h = F.local_response_normalization(h)\n",
    "        h = F.max_pooling_nd(h, 3, stride=2)\n",
    "        h = F.relu(self.l1(h))\n",
    "        \n",
    "        h = self.l1(h)\n",
    "        # h = F.dropout(F.relu(h), train=self.train)\n",
    "        h = self.l2(h)\n",
    "        h = self.l3(h)\n",
    "        return h"
   ]
  },
  {
   "cell_type": "markdown",
   "metadata": {},
   "source": [
    "# Training"
   ]
  },
  {
   "cell_type": "code",
   "execution_count": 118,
   "metadata": {},
   "outputs": [
    {
     "name": "stdout",
     "output_type": "stream",
     "text": [
      "5\n",
      "[299910. 300048. 299948. 300605. 299840.]\n"
     ]
    },
    {
     "name": "stderr",
     "output_type": "stream",
     "text": [
      "/home/hondasora/.pyenv/versions/anaconda3-4.4.0/envs/py3/lib/python3.5/site-packages/chainer/backends/cuda.py:95: UserWarning: cuDNN is not enabled.\n",
      "Please reinstall CuPy after you install cudnn\n",
      "(see https://docs-cupy.chainer.org/en/stable/install.html#install-cupy-with-cudnn-and-nccl).\n",
      "  'cuDNN is not enabled.\\n'\n"
     ]
    },
    {
     "ename": "CUDARuntimeError",
     "evalue": "cudaErrorInvalidDevice: invalid device ordinal",
     "output_type": "error",
     "traceback": [
      "\u001b[0;31m---------------------------------------------------------------------------\u001b[0m",
      "\u001b[0;31mCUDARuntimeError\u001b[0m                          Traceback (most recent call last)",
      "\u001b[0;32m<ipython-input-118-92ea51c33fe7>\u001b[0m in \u001b[0;36m<module>\u001b[0;34m()\u001b[0m\n\u001b[1;32m     19\u001b[0m \u001b[0moptimizer\u001b[0m\u001b[0;34m.\u001b[0m\u001b[0msetup\u001b[0m\u001b[0;34m(\u001b[0m\u001b[0mnn\u001b[0m\u001b[0;34m)\u001b[0m\u001b[0;34m\u001b[0m\u001b[0m\n\u001b[1;32m     20\u001b[0m \u001b[0;34m\u001b[0m\u001b[0m\n\u001b[0;32m---> 21\u001b[0;31m \u001b[0mupdater\u001b[0m \u001b[0;34m=\u001b[0m \u001b[0mtraining\u001b[0m\u001b[0;34m.\u001b[0m\u001b[0mupdaters\u001b[0m\u001b[0;34m.\u001b[0m\u001b[0mStandardUpdater\u001b[0m\u001b[0;34m(\u001b[0m\u001b[0mtrain_iter\u001b[0m\u001b[0;34m,\u001b[0m \u001b[0moptimizer\u001b[0m\u001b[0;34m,\u001b[0m \u001b[0mdevice\u001b[0m\u001b[0;34m=\u001b[0m\u001b[0;36m1\u001b[0m\u001b[0;34m)\u001b[0m\u001b[0;34m\u001b[0m\u001b[0m\n\u001b[0m\u001b[1;32m     22\u001b[0m \u001b[0mtrainer\u001b[0m \u001b[0;34m=\u001b[0m \u001b[0mtraining\u001b[0m\u001b[0;34m.\u001b[0m\u001b[0mTrainer\u001b[0m\u001b[0;34m(\u001b[0m\u001b[0mupdater\u001b[0m\u001b[0;34m,\u001b[0m \u001b[0;34m(\u001b[0m\u001b[0mmax_epoch\u001b[0m\u001b[0;34m,\u001b[0m \u001b[0;34m'epoch'\u001b[0m\u001b[0;34m)\u001b[0m\u001b[0;34m)\u001b[0m\u001b[0;34m\u001b[0m\u001b[0m\n\u001b[1;32m     23\u001b[0m \u001b[0;34m\u001b[0m\u001b[0m\n",
      "\u001b[0;32m~/.pyenv/versions/anaconda3-4.4.0/envs/py3/lib/python3.5/site-packages/chainer/training/updaters/standard_updater.py\u001b[0m in \u001b[0;36m__init__\u001b[0;34m(self, iterator, optimizer, converter, device, loss_func, loss_scale)\u001b[0m\n\u001b[1;32m     65\u001b[0m         \u001b[0;32mif\u001b[0m \u001b[0mdevice\u001b[0m \u001b[0;32mis\u001b[0m \u001b[0;32mnot\u001b[0m \u001b[0;32mNone\u001b[0m \u001b[0;32mand\u001b[0m \u001b[0mdevice\u001b[0m \u001b[0;34m>=\u001b[0m \u001b[0;36m0\u001b[0m\u001b[0;34m:\u001b[0m\u001b[0;34m\u001b[0m\u001b[0m\n\u001b[1;32m     66\u001b[0m             \u001b[0;32mfor\u001b[0m \u001b[0moptimizer\u001b[0m \u001b[0;32min\u001b[0m \u001b[0msix\u001b[0m\u001b[0;34m.\u001b[0m\u001b[0mitervalues\u001b[0m\u001b[0;34m(\u001b[0m\u001b[0mself\u001b[0m\u001b[0;34m.\u001b[0m\u001b[0m_optimizers\u001b[0m\u001b[0;34m)\u001b[0m\u001b[0;34m:\u001b[0m\u001b[0;34m\u001b[0m\u001b[0m\n\u001b[0;32m---> 67\u001b[0;31m                 \u001b[0moptimizer\u001b[0m\u001b[0;34m.\u001b[0m\u001b[0mtarget\u001b[0m\u001b[0;34m.\u001b[0m\u001b[0mto_gpu\u001b[0m\u001b[0;34m(\u001b[0m\u001b[0mdevice\u001b[0m\u001b[0;34m)\u001b[0m\u001b[0;34m\u001b[0m\u001b[0m\n\u001b[0m\u001b[1;32m     68\u001b[0m \u001b[0;34m\u001b[0m\u001b[0m\n\u001b[1;32m     69\u001b[0m         \u001b[0mself\u001b[0m\u001b[0;34m.\u001b[0m\u001b[0mconverter\u001b[0m \u001b[0;34m=\u001b[0m \u001b[0mconverter\u001b[0m\u001b[0;34m\u001b[0m\u001b[0m\n",
      "\u001b[0;32m~/.pyenv/versions/anaconda3-4.4.0/envs/py3/lib/python3.5/site-packages/chainer/link.py\u001b[0m in \u001b[0;36mto_gpu\u001b[0;34m(self, device)\u001b[0m\n\u001b[1;32m    881\u001b[0m \u001b[0;34m\u001b[0m\u001b[0m\n\u001b[1;32m    882\u001b[0m     \u001b[0;32mdef\u001b[0m \u001b[0mto_gpu\u001b[0m\u001b[0;34m(\u001b[0m\u001b[0mself\u001b[0m\u001b[0;34m,\u001b[0m \u001b[0mdevice\u001b[0m\u001b[0;34m=\u001b[0m\u001b[0;32mNone\u001b[0m\u001b[0;34m)\u001b[0m\u001b[0;34m:\u001b[0m\u001b[0;34m\u001b[0m\u001b[0m\n\u001b[0;32m--> 883\u001b[0;31m         \u001b[0;32mwith\u001b[0m \u001b[0mcuda\u001b[0m\u001b[0;34m.\u001b[0m\u001b[0m_get_device\u001b[0m\u001b[0;34m(\u001b[0m\u001b[0mdevice\u001b[0m\u001b[0;34m)\u001b[0m\u001b[0;34m:\u001b[0m\u001b[0;34m\u001b[0m\u001b[0m\n\u001b[0m\u001b[1;32m    884\u001b[0m             \u001b[0msuper\u001b[0m\u001b[0;34m(\u001b[0m\u001b[0mChain\u001b[0m\u001b[0;34m,\u001b[0m \u001b[0mself\u001b[0m\u001b[0;34m)\u001b[0m\u001b[0;34m.\u001b[0m\u001b[0mto_gpu\u001b[0m\u001b[0;34m(\u001b[0m\u001b[0;34m)\u001b[0m\u001b[0;34m\u001b[0m\u001b[0m\n\u001b[1;32m    885\u001b[0m             \u001b[0md\u001b[0m \u001b[0;34m=\u001b[0m \u001b[0mself\u001b[0m\u001b[0;34m.\u001b[0m\u001b[0m__dict__\u001b[0m\u001b[0;34m\u001b[0m\u001b[0m\n",
      "\u001b[0;32mcupy/cuda/device.pyx\u001b[0m in \u001b[0;36mcupy.cuda.device.Device.__enter__\u001b[0;34m()\u001b[0m\n",
      "\u001b[0;32mcupy/cuda/device.pyx\u001b[0m in \u001b[0;36mcupy.cuda.device.Device.use\u001b[0;34m()\u001b[0m\n",
      "\u001b[0;32mcupy/cuda/runtime.pyx\u001b[0m in \u001b[0;36mcupy.cuda.runtime.setDevice\u001b[0;34m()\u001b[0m\n",
      "\u001b[0;32mcupy/cuda/runtime.pyx\u001b[0m in \u001b[0;36mcupy.cuda.runtime.check_status\u001b[0;34m()\u001b[0m\n",
      "\u001b[0;31mCUDARuntimeError\u001b[0m: cudaErrorInvalidDevice: invalid device ordinal"
     ]
    }
   ],
   "source": [
    "from chainer import iterators, optimizers, serializers, report, training\n",
    "from chainer.datasets import TupleDataset\n",
    "from chainer.training import extensions\n",
    "\n",
    "nn = MLP()\n",
    "print(dataset[0:95].ndim)\n",
    "print(label[95:])\n",
    "\n",
    "train = TupleDataset(dataset[:95], label[:95])\n",
    "val = TupleDataset(dataset[95:],label[95:])\n",
    "\n",
    "max_epoch = 50\n",
    "batchsize = 10\n",
    "\n",
    "train_iter = iterators.SerialIterator(train, batchsize)\n",
    "val_iter = iterators.SerialIterator(val, batchsize, False, False)\n",
    "\n",
    "optimizer = optimizers.Adam()\n",
    "optimizer.setup(nn)\n",
    "\n",
    "updater = training.updaters.StandardUpdater(train_iter, optimizer, device=1)\n",
    "trainer = training.Trainer(updater, (max_epoch, 'epoch'))\n",
    "\n",
    "trainer.extend(extensions.LogReport())\n",
    "trainer.extend(extensions.Evaluator(val_iter, nn))\n",
    "trainer.extend(extensions.PrintReport(['epoch', 'main/loss', 'validation/main/loss']))\n",
    "\n",
    "trainer.run()"
   ]
  },
  {
   "cell_type": "code",
   "execution_count": null,
   "metadata": {},
   "outputs": [],
   "source": []
  },
  {
   "cell_type": "code",
   "execution_count": null,
   "metadata": {},
   "outputs": [],
   "source": []
  }
 ],
 "metadata": {
  "kernelspec": {
   "display_name": "Python 3",
   "language": "python",
   "name": "python3"
  },
  "language_info": {
   "codemirror_mode": {
    "name": "ipython",
    "version": 3
   },
   "file_extension": ".py",
   "mimetype": "text/x-python",
   "name": "python",
   "nbconvert_exporter": "python",
   "pygments_lexer": "ipython3",
   "version": "3.5.5"
  }
 },
 "nbformat": 4,
 "nbformat_minor": 2
}

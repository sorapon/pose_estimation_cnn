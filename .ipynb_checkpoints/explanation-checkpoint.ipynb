{
 "cells": [
  {
   "cell_type": "markdown",
   "metadata": {},
   "source": [
    "# Dataset\n",
    "\n",
    "## Creation of the dataset"
   ]
  },
  {
   "cell_type": "code",
   "execution_count": 1,
   "metadata": {},
   "outputs": [
    {
     "name": "stdout",
     "output_type": "stream",
     "text": [
      "[[ 1.00108937  1.00217993]\n",
      " [ 9.99804857 99.96097516]]\n"
     ]
    }
   ],
   "source": [
    "import numpy as np\n",
    "\n",
    "def squared(x):\n",
    "    return pow(x,2)\n",
    "\n",
    "n_data = 10000\n",
    "dataset = np.zeros((n_data,2))\n",
    "\n",
    "for i in range(n_data):\n",
    "    x = np.random.uniform(1,10)\n",
    "    dataset[i]=[x, squared(x)] \n",
    "\n",
    "min_max = np.zeros((2,2))\n",
    "min_max[0] = np.min(dataset[:], axis=0)\n",
    "min_max[1] = np.max(dataset[:], axis=0)\n",
    "\n",
    "print(min_max)\n",
    "dataset = (dataset-min_max[0])/(min_max[1]-min_max[0])\n",
    "dataset = dataset.astype(np.float32)"
   ]
  },
  {
   "cell_type": "markdown",
   "metadata": {},
   "source": [
    "## Distribution visualization"
   ]
  },
  {
   "cell_type": "code",
   "execution_count": 2,
   "metadata": {},
   "outputs": [
    {
     "data": {
      "text/plain": [
       "<Figure size 640x480 with 1 Axes>"
      ]
     },
     "metadata": {},
     "output_type": "display_data"
    },
    {
     "data": {
      "text/plain": [
       "<Figure size 640x480 with 1 Axes>"
      ]
     },
     "metadata": {},
     "output_type": "display_data"
    }
   ],
   "source": [
    "import matplotlib.pyplot as plt\n",
    "\n",
    "plt.hist(dataset[:,0])\n",
    "plt.show()\n",
    "plt.hist(dataset[:,1])\n",
    "plt.show()"
   ]
  },
  {
   "cell_type": "markdown",
   "metadata": {},
   "source": [
    "# Chainer \n",
    "\n",
    "## model"
   ]
  },
  {
   "cell_type": "code",
   "execution_count": 25,
   "metadata": {},
   "outputs": [],
   "source": [
    "import chainer\n",
    "import chainer.functions as F\n",
    "import chainer.links as L\n",
    "from chainer import report\n",
    "\n",
    "class MLP(chainer.Chain):\n",
    "    def __init__(self):\n",
    "        super(MLP, self).__init__(\n",
    "            l1=L.Linear(1, 100),\n",
    "            l3=L.Linear(100, 1),\n",
    "        )\n",
    "        \n",
    "    def __call__(self, x, y):\n",
    "        h = F.relu(self.l1(x))\n",
    "        h = self.l3(h)\n",
    "        loss = F.mean_squared_error(h, y)\n",
    "        report({'loss': loss}, self)\n",
    "        return loss\n",
    "    \n",
    "    def predict(self, x):\n",
    "        h = F.relu(self.l1(x))\n",
    "        h = self.l3(h)\n",
    "        return h"
   ]
  },
  {
   "cell_type": "markdown",
   "metadata": {},
   "source": [
    "## Training"
   ]
  },
  {
   "cell_type": "code",
   "execution_count": 26,
   "metadata": {},
   "outputs": [
    {
     "name": "stdout",
     "output_type": "stream",
     "text": [
      "epoch       main/loss   validation/main/loss\n",
      "\u001b[J1           0.0294371   0.00362122            \n",
      "\u001b[J2           0.00285353  0.00236731            \n",
      "\u001b[J3           0.00200306  0.00161141            \n",
      "\u001b[J4           0.00123374  0.000907514           \n",
      "\u001b[J5           0.000597656  0.000356152           \n",
      "\u001b[J6           0.000243765  0.000143002           \n",
      "\u001b[J7           0.000107574  7.30709e-05           \n",
      "\u001b[J8           5.53268e-05  3.92028e-05           \n",
      "\u001b[J9           3.18854e-05  2.80992e-05           \n",
      "\u001b[J10          1.91019e-05  1.48614e-05           \n",
      "\u001b[J11          1.25991e-05  1.06516e-05           \n",
      "\u001b[J12          8.28169e-06  6.32539e-06           \n",
      "\u001b[J13          5.71796e-06  5.53449e-06           \n",
      "\u001b[J14          4.10391e-06  3.29779e-06           \n",
      "\u001b[J15          2.96742e-06  2.51851e-06           \n",
      "\u001b[J16          2.44841e-06  1.8931e-06            \n",
      "\u001b[J17          1.82474e-06  1.58258e-06           \n",
      "\u001b[J18          1.38702e-06  1.11084e-06           \n",
      "\u001b[J19          1.10589e-06  1.19584e-06           \n",
      "\u001b[J20          9.03087e-07  9.76875e-07           \n",
      "\u001b[J21          7.01641e-07  6.14542e-07           \n",
      "\u001b[J22          5.59302e-07  4.44711e-07           \n",
      "\u001b[J23          4.65602e-07  8.40438e-07           \n",
      "\u001b[J24          3.75694e-07  5.80067e-07           \n",
      "\u001b[J25          3.15931e-07  3.84692e-07           \n",
      "\u001b[J26          3.03732e-07  1.94749e-07           \n",
      "\u001b[J27          2.94939e-07  7.1952e-07            \n",
      "\u001b[J28          2.11119e-07  2.26067e-07           \n",
      "\u001b[J29          2.34819e-07  4.76842e-07           \n",
      "\u001b[J30          2.40682e-07  2.44459e-07           \n",
      "\u001b[J31          1.95797e-07  1.39964e-07           \n",
      "\u001b[J32          2.72819e-07  2.17914e-06           \n",
      "\u001b[J33          3.10592e-07  2.30828e-07           \n",
      "\u001b[J34          3.18053e-07  1.95595e-07           \n",
      "\u001b[J35          4.31748e-06  1.22784e-07           \n",
      "\u001b[J36          3.75002e-07  1.15668e-07           \n",
      "\u001b[J37          7.1529e-07  4.63953e-07           \n",
      "\u001b[J38          9.28641e-07  3.11082e-06           \n",
      "\u001b[J39          4.37719e-07  1.08886e-07           \n",
      "\u001b[J40          3.37342e-06  5.2341e-08            \n",
      "\u001b[J41          1.30643e-06  1.68058e-07           \n",
      "\u001b[J42          9.3783e-07  4.11174e-08           \n",
      "\u001b[J43          5.53135e-06  2.83038e-07           \n",
      "\u001b[J44          1.74535e-07  8.25765e-08           \n",
      "\u001b[J45          4.24503e-06  8.47969e-07           \n",
      "\u001b[J46          2.37557e-07  1.71592e-07           \n",
      "\u001b[J47          1.83832e-07  4.33044e-07           \n",
      "\u001b[J48          4.34396e-07  1.58382e-06           \n",
      "\u001b[J49          3.00925e-06  2.60607e-07           \n",
      "\u001b[J50          6.86296e-07  1.27371e-07           \n"
     ]
    }
   ],
   "source": [
    "from chainer import iterators, optimizers, serializers, report, training\n",
    "from chainer.datasets import TupleDataset\n",
    "from chainer.training import extensions\n",
    "\n",
    "nn = MLP()\n",
    "\n",
    "train = TupleDataset(dataset[:9500,0:1],dataset[:9500,1:2])\n",
    "val = TupleDataset(dataset[9500:,0:1],dataset[9500:,1:2])\n",
    "\n",
    "max_epoch = 50\n",
    "batchsize = 40\n",
    "\n",
    "train_iter = iterators.SerialIterator(train, batchsize)\n",
    "val_iter = iterators.SerialIterator(val, batchsize, False, False)\n",
    "\n",
    "optimizer = optimizers.Adam()\n",
    "optimizer.setup(nn)\n",
    "\n",
    "updater = training.updaters.StandardUpdater(train_iter, optimizer)\n",
    "trainer = training.Trainer(updater, (max_epoch, 'epoch'))\n",
    "\n",
    "trainer.extend(extensions.LogReport())\n",
    "trainer.extend(extensions.Evaluator(val_iter, nn))\n",
    "trainer.extend(extensions.PrintReport(['epoch', 'main/loss', 'validation/main/loss']))\n",
    "\n",
    "trainer.run()"
   ]
  },
  {
   "cell_type": "markdown",
   "metadata": {},
   "source": [
    "# Testing"
   ]
  },
  {
   "cell_type": "code",
   "execution_count": 27,
   "metadata": {},
   "outputs": [
    {
     "data": {
      "image/png": "[encoded data removed]",
      "text/plain": [
       "<Figure size 432x288 with 1 Axes>"
      ]
     },
     "metadata": {},
     "output_type": "display_data"
    }
   ],
   "source": [
    "x = np.linspace(1,10,100)\n",
    "y = squared(x)\n",
    "\n",
    "input_data = np.zeros((100,1))\n",
    "for i in range(100):\n",
    "    input_data[i] = x[i]\n",
    "\n",
    "input_data = (input_data-min_max[0,0])/(min_max[1,0]-min_max[0,0])\n",
    "input_data = input_data.astype(np.float32)\n",
    "\n",
    "y_pred_norm = nn.predict(input_data)\n",
    "y_pred = y_pred_norm*(min_max[1,1]-min_max[0,1])+min_max[0,1]\n",
    "\n",
    "\n",
    "plt.plot(x,y)\n",
    "plt.plot(x,y_pred.data)\n",
    "plt.show()"
   ]
  },
  {
   "cell_type": "code",
   "execution_count": null,
   "metadata": {},
   "outputs": [],
   "source": []
  },
  {
   "cell_type": "code",
   "execution_count": null,
   "metadata": {},
   "outputs": [],
   "source": []
  }
 ],
 "metadata": {
  "kernelspec": {
   "display_name": "Python 3",
   "language": "python",
   "name": "python3"
  },
  "language_info": {
   "codemirror_mode": {
    "name": "ipython",
    "version": 3
   },
   "file_extension": ".py",
   "mimetype": "text/x-python",
   "name": "python",
   "nbconvert_exporter": "python",
   "pygments_lexer": "ipython3",
   "version": "3.5.5"
  }
 },
 "nbformat": 4,
 "nbformat_minor": 2
}

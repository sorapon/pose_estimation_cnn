{
 "cells": [
  {
   "cell_type": "markdown",
   "metadata": {},
   "source": [
    "# Dataset\n",
    "\n",
    "## Creation of the dataset"
   ]
  },
  {
   "cell_type": "code",
   "execution_count": 5,
   "metadata": {},
   "outputs": [
    {
     "name": "stdout",
     "output_type": "stream",
     "text": [
      "[[ 1.00126221  1.00252602]\n",
      " [ 9.99982311 99.99646232]]\n"
     ]
    }
   ],
   "source": [
    "import numpy as np\n",
    "\n",
    "def squared(x):\n",
    "    return pow(x,2)\n",
    "\n",
    "n_data = 10000\n",
    "dataset = np.zeros((n_data,2))\n",
    "\n",
    "for i in range(n_data):\n",
    "    x = np.random.uniform(1,10)\n",
    "    dataset[i]=[x, squared(x)] \n",
    "\n",
    "min_max = np.zeros((2,2))\n",
    "min_max[0] = np.min(dataset[:], axis=0)\n",
    "min_max[1] = np.max(dataset[:], axis=0)\n",
    "\n",
    "print(min_max)\n",
    "dataset = (dataset-min_max[0])/(min_max[1]-min_max[0])\n",
    "dataset = dataset.astype(np.float32)"
   ]
  },
  {
   "cell_type": "markdown",
   "metadata": {},
   "source": [
    "## Distribution visualization"
   ]
  },
  {
   "cell_type": "code",
   "execution_count": 6,
   "metadata": {},
   "outputs": [
    {
     "data": {
      "image/png": "[encoded data removed]",
      "text/plain": [
       "<Figure size 432x288 with 1 Axes>"
      ]
     },
     "metadata": {},
     "output_type": "display_data"
    },
    {
     "data": {
      "image/png": "[encoded data removed]",
      "text/plain": [
       "<Figure size 432x288 with 1 Axes>"
      ]
     },
     "metadata": {},
     "output_type": "display_data"
    }
   ],
   "source": [
    "import matplotlib.pyplot as plt\n",
    "\n",
    "plt.hist(dataset[:,0])\n",
    "plt.show()\n",
    "plt.hist(dataset[:,1])\n",
    "plt.show()"
   ]
  },
  {
   "cell_type": "markdown",
   "metadata": {},
   "source": [
    "# Chainer \n",
    "\n",
    "## model"
   ]
  },
  {
   "cell_type": "code",
   "execution_count": 7,
   "metadata": {},
   "outputs": [],
   "source": [
    "import chainer\n",
    "import chainer.functions as F\n",
    "import chainer.links as L\n",
    "from chainer import report\n",
    "\n",
    "class MLP(chainer.Chain):\n",
    "    def __init__(self):\n",
    "        super(MLP, self).__init__(\n",
    "            l1=L.Linear(1, 100),\n",
    "            l3=L.Linear(100, 1),\n",
    "        )\n",
    "        \n",
    "    def __call__(self, x, y):\n",
    "        h = F.relu(self.l1(x))\n",
    "        h = self.l3(h)\n",
    "        loss = F.mean_squared_error(h, y)\n",
    "        report({'loss': loss}, self)\n",
    "        return loss\n",
    "    \n",
    "    def predict(self, x):\n",
    "        h = F.relu(self.l1(x))\n",
    "        h = self.l3(h)\n",
    "        return h"
   ]
  },
  {
   "cell_type": "markdown",
   "metadata": {},
   "source": [
    "## Training"
   ]
  },
  {
   "cell_type": "code",
   "execution_count": 28,
   "metadata": {},
   "outputs": [
    {
     "name": "stdout",
     "output_type": "stream",
     "text": [
      "(9500, 1)\n",
      "(9500,)\n",
      "(9500, 2)\n",
      "epoch       main/loss   validation/main/loss\n",
      "\u001b[J1           0.00602713  0.00319329            \n",
      "\u001b[J2           0.00254651  0.00205277            \n",
      "\u001b[J3           0.00136115  0.000850299           \n",
      "\u001b[J4           0.000489398  0.000261423           \n",
      "\u001b[J5           0.000159517  0.000100711           \n",
      "\u001b[J6           6.48171e-05  4.53602e-05           \n",
      "\u001b[J7           3.12656e-05  2.34414e-05           \n",
      "\u001b[J8           1.66781e-05  1.24741e-05           \n",
      "\u001b[J9           9.96911e-06  8.44513e-06           \n",
      "\u001b[J10          6.59115e-06  5.75394e-06           \n",
      "\u001b[J11          4.35224e-06  3.15616e-06           \n",
      "\u001b[J12          3.01213e-06  3.41769e-06           \n",
      "\u001b[J13          2.31401e-06  1.52056e-06           \n",
      "\u001b[J14          1.63662e-06  1.35645e-06           \n",
      "\u001b[J15          1.24625e-06  1.9514e-06            \n",
      "\u001b[J16          1.02971e-06  7.46429e-07           \n",
      "\u001b[J17          8.88099e-07  5.49958e-07           \n",
      "\u001b[J18          6.68314e-07  7.87777e-07           \n",
      "\u001b[J19          4.91807e-07  5.25211e-07           \n",
      "\u001b[J20          5.2931e-07  9.56245e-07           \n",
      "\u001b[J21          3.92339e-07  2.44014e-07           \n",
      "\u001b[J22          3.67697e-07  2.02463e-07           \n",
      "\u001b[J23          3.67842e-07  2.15851e-07           \n",
      "\u001b[J24          2.79041e-07  3.18372e-07           \n",
      "\u001b[J25          3.6921e-07  1.81506e-07           \n",
      "\u001b[J26          2.12038e-07  1.38732e-07           \n",
      "\u001b[J27          3.39422e-07  2.52973e-07           \n",
      "\u001b[J28          3.76437e-07  5.92091e-07           \n",
      "\u001b[J29          5.03427e-07  1.29377e-07           \n",
      "\u001b[J30          5.44018e-07  5.59651e-07           \n",
      "\u001b[J31          8.84894e-07  1.68223e-05           \n",
      "\u001b[J32          1.57376e-06  5.50707e-07           \n",
      "\u001b[J33          4.73247e-07  2.88225e-07           \n",
      "\u001b[J34          1.33699e-06  2.52961e-07           \n",
      "\u001b[J35          4.18597e-07  2.07452e-07           \n",
      "\u001b[J36          1.10372e-06  1.45467e-07           \n",
      "\u001b[J37          5.68835e-07  1.38413e-07           \n",
      "\u001b[J38          1.11346e-06  1.31608e-07           \n",
      "\u001b[J39          1.24533e-06  1.89495e-07           \n",
      "\u001b[J40          3.94575e-07  1.02496e-06           \n",
      "\u001b[J41          1.22234e-06  1.65069e-07           \n",
      "\u001b[J42          6.88349e-07  1.48854e-07           \n",
      "\u001b[J43          3.90792e-07  1.5336e-07            \n",
      "\u001b[J44          1.47697e-06  1.78844e-07           \n",
      "\u001b[J45          1.86857e-06  5.98801e-07           \n",
      "\u001b[J46          6.62235e-07  2.6164e-07            \n",
      "\u001b[J47          5.38343e-07  1.09164e-07           \n",
      "\u001b[J48          1.26416e-06  1.83683e-07           \n",
      "\u001b[J49          2.40775e-06  1.51574e-07           \n",
      "\u001b[J50          3.7984e-07  1.12911e-07           \n"
     ]
    }
   ],
   "source": [
    "from chainer import iterators, optimizers, serializers, report, training\n",
    "from chainer.datasets import TupleDataset\n",
    "from chainer.training import extensions\n",
    "\n",
    "nn = MLP()\n",
    "print(dataset[:9500,0:1].shape)\n",
    "print(dataset[:9500,0].shape)\n",
    "print(dataset[:9500].shape)\n",
    "train = TupleDataset(dataset[:9500,0:1],dataset[:9500,1:2])\n",
    "val = TupleDataset(dataset[9500:,0:1],dataset[9500:,1:2])\n",
    "\n",
    "max_epoch = 50\n",
    "batchsize = 40\n",
    "\n",
    "train_iter = iterators.SerialIterator(train, batchsize)\n",
    "val_iter = iterators.SerialIterator(val, batchsize, False, False)\n",
    "\n",
    "optimizer = optimizers.Adam()\n",
    "optimizer.setup(nn)\n",
    "\n",
    "updater = training.updaters.StandardUpdater(train_iter, optimizer)\n",
    "trainer = training.Trainer(updater, (max_epoch, 'epoch'))\n",
    "\n",
    "trainer.extend(extensions.LogReport())\n",
    "trainer.extend(extensions.Evaluator(val_iter, nn))\n",
    "trainer.extend(extensions.PrintReport(['epoch', 'main/loss', 'validation/main/loss']))\n",
    "\n",
    "trainer.run()"
   ]
  },
  {
   "cell_type": "markdown",
   "metadata": {},
   "source": [
    "# Testing"
   ]
  },
  {
   "cell_type": "code",
   "execution_count": null,
   "metadata": {},
   "outputs": [],
   "source": [
    "x = np.linspace(1,10,100)\n",
    "y = squared(x)\n",
    "\n",
    "input_data = np.zeros((100,1))\n",
    "for i in range(100):\n",
    "    input_data[i] = x[i]\n",
    "\n",
    "input_data = (input_data-min_max[0,0])/(min_max[1,0]-min_max[0,0])\n",
    "input_data = input_data.astype(np.float32)\n",
    "\n",
    "y_pred_norm = nn.predict(input_data)\n",
    "y_pred = y_pred_norm*(min_max[1,1]-min_max[0,1])+min_max[0,1]\n",
    "\n",
    "\n",
    "plt.plot(x,y)\n",
    "plt.plot(x,y_pred.data)\n",
    "plt.show()"
   ]
  },
  {
   "cell_type": "code",
   "execution_count": null,
   "metadata": {},
   "outputs": [],
   "source": []
  },
  {
   "cell_type": "code",
   "execution_count": null,
   "metadata": {},
   "outputs": [],
   "source": []
  }
 ],
 "metadata": {
  "kernelspec": {
   "display_name": "Python 3",
   "language": "python",
   "name": "python3"
  },
  "language_info": {
   "codemirror_mode": {
    "name": "ipython",
    "version": 3
   },
   "file_extension": ".py",
   "mimetype": "text/x-python",
   "name": "python",
   "nbconvert_exporter": "python",
   "pygments_lexer": "ipython3",
   "version": "3.5.5"
  }
 },
 "nbformat": 4,
 "nbformat_minor": 2
}
